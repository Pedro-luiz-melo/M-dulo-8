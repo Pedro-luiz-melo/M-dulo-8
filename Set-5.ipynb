{
 "cells": [
  {
   "cell_type": "code",
   "execution_count": 1,
   "id": "4b80e01e-ff11-4cfb-b63e-47af08fbb9f1",
   "metadata": {},
   "outputs": [
    {
     "name": "stdout",
     "output_type": "stream",
     "text": [
      "É um panagrama\n",
      "Não é um panagrama\n"
     ]
    }
   ],
   "source": [
    "import string\n",
    "\n",
    "def checa_panagrama(frase):\n",
    "    letras_alfabeto = set(string.ascii_lowercase)\n",
    "    letras_frase = set(c.lower() for c in frase if c.isalpha())\n",
    "    return letras_alfabeto <= letras_frase  # ou letras_alfabeto.issubset(letras_frase)\n",
    "\n",
    "# Testes\n",
    "print(\"É um panagrama\" if checa_panagrama(\"The quick brown fox jumps over the lazy dog\") else \"Não é um panagrama\")\n",
    "print(\"É um panagrama\" if checa_panagrama(\"Python é uma linguagem de programação\") else \"Não é um panagrama\")\n"
   ]
  }
 ],
 "metadata": {
  "kernelspec": {
   "display_name": "Python 3 (ipykernel)",
   "language": "python",
   "name": "python3"
  },
  "language_info": {
   "codemirror_mode": {
    "name": "ipython",
    "version": 3
   },
   "file_extension": ".py",
   "mimetype": "text/x-python",
   "name": "python",
   "nbconvert_exporter": "python",
   "pygments_lexer": "ipython3",
   "version": "3.12.2"
  }
 },
 "nbformat": 4,
 "nbformat_minor": 5
}
