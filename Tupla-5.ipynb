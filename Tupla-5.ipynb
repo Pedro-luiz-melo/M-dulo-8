{
 "cells": [
  {
   "cell_type": "code",
   "execution_count": 1,
   "id": "ff638a77-c2c8-494e-ac71-b40b9bbc3503",
   "metadata": {},
   "outputs": [
    {
     "name": "stdin",
     "output_type": "stream",
     "text": [
      "Digite o nome (ou 'sair' para encerrar):  pedro\n",
      "Digite a idade:  16\n",
      "Digite o nome (ou 'sair' para encerrar):  laura\n",
      "Digite a idade:  16\n",
      "Digite o nome (ou 'sair' para encerrar):  sair\n"
     ]
    },
    {
     "name": "stdout",
     "output_type": "stream",
     "text": [
      "Menores de idade: ('pedro', 'laura')\n",
      "Maiores de idade: ()\n"
     ]
    }
   ],
   "source": [
    "# Script interativo - peça os dados até digitar \"sair\"\n",
    "fila = []\n",
    "\n",
    "while True:\n",
    "    nome = input(\"Digite o nome (ou 'sair' para encerrar): \")\n",
    "    if nome.lower() == 'sair':\n",
    "        break\n",
    "    idade = int(input(\"Digite a idade: \"))\n",
    "    fila.append((nome, idade))\n",
    "\n",
    "# Separar maiores e menores de idade\n",
    "menores = tuple([nome for nome, idade in fila if idade < 18])\n",
    "maiores = tuple([nome for nome, idade in fila if idade >= 18])\n",
    "\n",
    "print(\"Menores de idade:\", menores)\n",
    "print(\"Maiores de idade:\", maiores)\n"
   ]
  }
 ],
 "metadata": {
  "kernelspec": {
   "display_name": "Python 3 (ipykernel)",
   "language": "python",
   "name": "python3"
  },
  "language_info": {
   "codemirror_mode": {
    "name": "ipython",
    "version": 3
   },
   "file_extension": ".py",
   "mimetype": "text/x-python",
   "name": "python",
   "nbconvert_exporter": "python",
   "pygments_lexer": "ipython3",
   "version": "3.12.2"
  }
 },
 "nbformat": 4,
 "nbformat_minor": 5
}
