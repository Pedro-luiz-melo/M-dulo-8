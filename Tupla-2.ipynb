{
 "cells": [
  {
   "cell_type": "code",
   "execution_count": 1,
   "id": "1f5b0270-9a41-4893-afd6-b31ab02e0ce6",
   "metadata": {},
   "outputs": [
    {
     "name": "stdout",
     "output_type": "stream",
     "text": [
      "Vogal 'O' encontrada no índice 0\n",
      "Vogal 'a' encontrada no índice 3\n",
      "Vogal 'o' encontrada no índice 5\n",
      "Vogal 'o' encontrada no índice 8\n",
      "Vogal 'e' encontrada no índice 9\n",
      "Vogal 'u' encontrada no índice 10\n",
      "Vogal 'a' encontrada no índice 12\n",
      "Vogal 'o' encontrada no índice 15\n",
      "Vogal 'u' encontrada no índice 16\n",
      "Vogal 'a' encontrada no índice 18\n",
      "Vogal 'a' encontrada no índice 21\n",
      "Vogal 'A' encontrada no índice 23\n",
      "Vogal 'i' encontrada no índice 25\n",
      "Vogal 'e' encontrada no índice 27\n"
     ]
    }
   ],
   "source": [
    "frase = \"O rato roeu a roupa da Alice\"\n",
    "vogais = \"aeiouAEIOU\"\n",
    "\n",
    "for i, letra in enumerate(frase):\n",
    "    if letra in vogais:\n",
    "        print(f\"Vogal '{letra}' encontrada no índice {i}\")\n",
    "\n"
   ]
  }
 ],
 "metadata": {
  "kernelspec": {
   "display_name": "Python 3 (ipykernel)",
   "language": "python",
   "name": "python3"
  },
  "language_info": {
   "codemirror_mode": {
    "name": "ipython",
    "version": 3
   },
   "file_extension": ".py",
   "mimetype": "text/x-python",
   "name": "python",
   "nbconvert_exporter": "python",
   "pygments_lexer": "ipython3",
   "version": "3.12.2"
  }
 },
 "nbformat": 4,
 "nbformat_minor": 5
}
