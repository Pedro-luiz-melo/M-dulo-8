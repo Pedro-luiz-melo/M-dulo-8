{
 "cells": [
  {
   "cell_type": "code",
   "execution_count": 1,
   "id": "d2733f6b-80b0-445a-b8fc-59efe3b3533c",
   "metadata": {},
   "outputs": [
    {
     "name": "stdout",
     "output_type": "stream",
     "text": [
      "{'p': 2, 'y': 1, 't': 1, 'h': 1, 'o': 2, 'n': 2, ' ': 1, 'r': 2, 'g': 2, 'a': 1, 'm': 2, 'i': 1}\n"
     ]
    }
   ],
   "source": [
    "def contagem_caracteres(texto):\n",
    "    dicionario = {}\n",
    "    for caractere in texto:\n",
    "        if caractere in dicionario:\n",
    "            dicionario[caractere] += 1\n",
    "        else:\n",
    "            dicionario[caractere] = 1\n",
    "    return dicionario\n",
    "\n",
    "# Exemplo de uso:\n",
    "frase = \"python programming\"\n",
    "resultado = contagem_caracteres(frase)\n",
    "print(resultado)\n"
   ]
  }
 ],
 "metadata": {
  "kernelspec": {
   "display_name": "Python 3 (ipykernel)",
   "language": "python",
   "name": "python3"
  },
  "language_info": {
   "codemirror_mode": {
    "name": "ipython",
    "version": 3
   },
   "file_extension": ".py",
   "mimetype": "text/x-python",
   "name": "python",
   "nbconvert_exporter": "python",
   "pygments_lexer": "ipython3",
   "version": "3.12.2"
  }
 },
 "nbformat": 4,
 "nbformat_minor": 5
}
