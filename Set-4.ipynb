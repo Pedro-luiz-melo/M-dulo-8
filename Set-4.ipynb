{
 "cells": [
  {
   "cell_type": "code",
   "execution_count": 1,
   "id": "e31c44c3-ca65-4c2e-b5c1-650094c9bfc1",
   "metadata": {},
   "outputs": [
    {
     "name": "stdout",
     "output_type": "stream",
     "text": [
      "O elemento 1 está faltando na segunda lista\n"
     ]
    }
   ],
   "source": [
    "A = [1, 4, 5, 7, 9]\n",
    "B = [4, 5, 7, 9]\n",
    "\n",
    "# Converte para set e compara\n",
    "dif_a = set(A) - set(B)\n",
    "dif_b = set(B) - set(A)\n",
    "\n",
    "if dif_a:\n",
    "    print(f\"O elemento {dif_a.pop()} está faltando na segunda lista\")\n",
    "elif dif_b:\n",
    "    print(f\"O elemento {dif_b.pop()} está faltando na primeira lista\")\n",
    "else:\n",
    "    print(\"As listas são iguais\")\n"
   ]
  }
 ],
 "metadata": {
  "kernelspec": {
   "display_name": "Python 3 (ipykernel)",
   "language": "python",
   "name": "python3"
  },
  "language_info": {
   "codemirror_mode": {
    "name": "ipython",
    "version": 3
   },
   "file_extension": ".py",
   "mimetype": "text/x-python",
   "name": "python",
   "nbconvert_exporter": "python",
   "pygments_lexer": "ipython3",
   "version": "3.12.2"
  }
 },
 "nbformat": 4,
 "nbformat_minor": 5
}
