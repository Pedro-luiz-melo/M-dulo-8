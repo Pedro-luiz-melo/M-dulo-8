{
 "cells": [
  {
   "cell_type": "code",
   "execution_count": 1,
   "id": "5037462d-6f53-4236-804f-d9a5aa00352f",
   "metadata": {},
   "outputs": [
    {
     "name": "stdout",
     "output_type": "stream",
     "text": [
      "(35, 24) <class 'tuple'>\n"
     ]
    }
   ],
   "source": [
    "def calcula_area_perimetro(dimensoes):\n",
    "    largura, comprimento = dimensoes\n",
    "    area = largura * comprimento\n",
    "    perimetro = 2 * (largura + comprimento)\n",
    "    return (area, perimetro)\n",
    "\n",
    "# Exemplo de uso:\n",
    "largura = 5\n",
    "comprimento = 7\n",
    "retorno = calcula_area_perimetro((largura, comprimento))\n",
    "print(retorno, type(retorno))\n"
   ]
  }
 ],
 "metadata": {
  "kernelspec": {
   "display_name": "Python 3 (ipykernel)",
   "language": "python",
   "name": "python3"
  },
  "language_info": {
   "codemirror_mode": {
    "name": "ipython",
    "version": 3
   },
   "file_extension": ".py",
   "mimetype": "text/x-python",
   "name": "python",
   "nbconvert_exporter": "python",
   "pygments_lexer": "ipython3",
   "version": "3.12.2"
  }
 },
 "nbformat": 4,
 "nbformat_minor": 5
}
