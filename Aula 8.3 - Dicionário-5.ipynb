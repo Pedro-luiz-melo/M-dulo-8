{
 "cells": [
  {
   "cell_type": "code",
   "execution_count": 1,
   "id": "b012c270-23b4-41df-9084-b109c0da4905",
   "metadata": {},
   "outputs": [
    {
     "name": "stdout",
     "output_type": "stream",
     "text": [
      "{'candidato_A': (360, 40.31), 'candidato_B': (258, 28.89), 'candidato_C': (275, 30.8)}\n"
     ]
    }
   ],
   "source": [
    "def resultado_votacao(lista_votos):\n",
    "    total_por_candidato = {}\n",
    "\n",
    "    for sessao in lista_votos:\n",
    "        for candidato, votos in sessao.items():\n",
    "            if candidato in total_por_candidato:\n",
    "                total_por_candidato[candidato] += votos\n",
    "            else:\n",
    "                total_por_candidato[candidato] = votos\n",
    "\n",
    "    total_geral = sum(total_por_candidato.values())\n",
    "\n",
    "    resultado = {}\n",
    "    for candidato, total in total_por_candidato.items():\n",
    "        percentual = round((total / total_geral) * 100, 2)\n",
    "        resultado[candidato] = (total, percentual)\n",
    "\n",
    "    return resultado\n",
    "\n",
    "# Exemplo de uso:\n",
    "votos = [\n",
    "    {'candidato_A': 120, 'candidato_B': 85, 'candidato_C': 90},\n",
    "    {'candidato_A': 110, 'candidato_B': 95, 'candidato_C': 80},\n",
    "    {'candidato_A': 130, 'candidato_B': 78, 'candidato_C': 105},\n",
    "]\n",
    "\n",
    "resultado = resultado_votacao(votos)\n",
    "print(resultado)\n",
    "# Saída esperada:\n",
    "# {'candidato_A': (360, 40.31), 'candidato_B': (258, 28.89), 'candidato_C': (275, 30.79)}\n"
   ]
  }
 ],
 "metadata": {
  "kernelspec": {
   "display_name": "Python 3 (ipykernel)",
   "language": "python",
   "name": "python3"
  },
  "language_info": {
   "codemirror_mode": {
    "name": "ipython",
    "version": 3
   },
   "file_extension": ".py",
   "mimetype": "text/x-python",
   "name": "python",
   "nbconvert_exporter": "python",
   "pygments_lexer": "ipython3",
   "version": "3.12.2"
  }
 },
 "nbformat": 4,
 "nbformat_minor": 5
}
